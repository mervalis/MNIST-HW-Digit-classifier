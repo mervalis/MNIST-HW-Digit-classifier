{
 "cells": [
  {
   "cell_type": "code",
   "execution_count": 1,
   "metadata": {},
   "outputs": [],
   "source": [
    "# Import libraries\n",
    "import numpy as np\n",
    "import torch\n",
    "from torch import nn\n",
    "from torch import optim\n",
    "import torch.nn.functional as F\n",
    "from torch.utils.data import DataLoader, Dataset\n",
    "from torchvision import transforms\n",
    "from torchvision import datasets\n",
    "import matplotlib.pyplot as plt\n",
    "\n",
    "import scipy.io\n",
    "from sklearn.model_selection import train_test_split"
   ]
  },
  {
   "cell_type": "markdown",
   "metadata": {},
   "source": [
    "## SECTION 1: Data loading and exploration"
   ]
  },
  {
   "cell_type": "markdown",
   "metadata": {},
   "source": [
    "### Pre-processing the data"
   ]
  },
  {
   "cell_type": "markdown",
   "metadata": {},
   "source": [
    "#### ToTensor():\n",
    "\n",
    "- Conversion to PyTorch tensor: The transformation converts the input data from a PIL image or NumPy array format to a PyTorch tensor, which is the preferred format for working with deep learning models in PyTorch.\n",
    "\n",
    "- Scaling pixel values: By default, pixel values in images are represented as integers in the range [0, 255]. transforms.ToTensor() automatically scales these values to a floating-point range of [0, 1] by dividing each pixel value by 255. This scaling process is beneficial because it ensures that the input values are within a consistent range, which generally improves the convergence and performance of neural networks during training.\n",
    "\n",
    "- Channel order: When working with images, it's essential to have a consistent channel order across the dataset. In the case of PIL images and NumPy arrays, the channel order is typically in the format (height, width, channels) or (H, W, C). However, PyTorch models generally expect the input tensors to have a channel-first format, i.e., (channels, height, width) or (C, H, W). The transforms.ToTensor() function automatically reorders the channels to the expected format.\n",
    "\n",
    "#### Normalization (mean 0.5, std 0.5):\n",
    "\n",
    "Normalizing the data scales the input features to a common range, making it easier for the model to learn the relationships between the input and output. In the case of image data, normalization can also help mitigate the effects of different lighting conditions and contrast levels.\n",
    "\n",
    "Since the MNIST images are grayscale, there is only one channel, and we use a single value for the mean and standard deviation.\n",
    "\n",
    "The choice of 0.5 for both the mean and standard deviation is a simple and convenient way to normalize the pixel values. \n",
    "\n",
    "\n",
    "#### Result:\n",
    "\n",
    "When you apply this transformation, the original pixel values (0 to 255) are first converted to a range of 0 to 1 (by the transforms.ToTensor() method) and then shifted and scaled by subtracting the mean and dividing by the standard deviation, obtaining values in a range [-1, 1]"
   ]
  },
  {
   "cell_type": "code",
   "execution_count": 2,
   "metadata": {
    "scrolled": true
   },
   "outputs": [],
   "source": [
    "# Establish our transform\n",
    "transform = transforms.Compose([transforms.ToTensor(), transforms.Normalize((0.5,), (0.5,))])"
   ]
  },
  {
   "cell_type": "code",
   "execution_count": 3,
   "metadata": {},
   "outputs": [
    {
     "name": "stdout",
     "output_type": "stream",
     "text": [
      "Images shape: torch.Size([64, 1, 28, 28])\n",
      "Labels shape: torch.Size([64])\n"
     ]
    }
   ],
   "source": [
    "# Custom MNIST dataset class\n",
    "class CustomMNISTDataset(Dataset):\n",
    "    def __init__(self, data, labels, transform=None):\n",
    "        self.data = data\n",
    "        self.labels = labels\n",
    "        self.transform = transform\n",
    "\n",
    "    def __len__(self):\n",
    "        return len(self.labels)\n",
    "\n",
    "    def __getitem__(self, idx):\n",
    "        image = self.data[idx].reshape(28, 28)\n",
    "        label = self.labels[idx]\n",
    "        if self.transform:\n",
    "            image = self.transform(image)\n",
    "        return image, label\n",
    "\n",
    "# Load the MNIST data\n",
    "mat = scipy.io.loadmat('mnist-original.mat')\n",
    "data = mat['data'].T\n",
    "labels = mat['label'][0]\n"
   ]
  },
  {
   "cell_type": "markdown",
   "metadata": {},
   "source": [
    "Let's split the data into train set, validation set and test set. Then let's create the custom datasets and dataloaders."
   ]
  },
  {
   "cell_type": "code",
   "execution_count": null,
   "metadata": {},
   "outputs": [],
   "source": [
    "# Split data into training and testing sets\n",
    "train_data, test_data, train_labels, test_labels = train_test_split(data, labels, test_size=1/7, random_state=42)\n",
    "train_data, val_data, train_labels, val_labels = train_test_split(train_data, train_labels, test_size=0.1, random_state=42)\n",
    "\n",
    "# Create custom datasets\n",
    "train_dataset = CustomMNISTDataset(train_data, train_labels, transform=transform)\n",
    "val_dataset = CustomMNISTDataset(val_data, val_labels, transform=transform)\n",
    "test_dataset = CustomMNISTDataset(test_data, test_labels, transform=transform)\n",
    "\n",
    "# Create dataloaders\n",
    "train_loader = DataLoader(train_dataset, batch_size=64, shuffle=True)\n",
    "val_loader = DataLoader(val_dataset, batch_size=64, shuffle=False)\n",
    "test_loader = DataLoader(test_dataset, batch_size=64, shuffle=False)\n",
    "\n",
    "# Check if the dataloaders are working\n",
    "images, labels = next(iter(train_loader))\n",
    "print(f'Images shape: {images.shape}')\n",
    "print(f'Labels shape: {labels.shape}')"
   ]
  },
  {
   "cell_type": "markdown",
   "metadata": {},
   "source": [
    "Let's explore the data. How many digits do we have in the training and test datasets?"
   ]
  },
  {
   "cell_type": "code",
   "execution_count": 4,
   "metadata": {},
   "outputs": [
    {
     "name": "stdout",
     "output_type": "stream",
     "text": [
      "Size of training dataset 54000 handwritten digits\n",
      "Size of validation dataset 6000 handwritten digits\n",
      "Size of test dataset 10000 handwritten digits\n"
     ]
    }
   ],
   "source": [
    "print(f'Size of training dataset {len(train_loader.dataset)} handwritten digits')\n",
    "print(f'Size of validation dataset {len(val_loader.dataset)} handwritten digits')\n",
    "print(f'Size of test dataset {len(test_loader.dataset)} handwritten digits')"
   ]
  },
  {
   "cell_type": "markdown",
   "metadata": {},
   "source": [
    "How many batches do we have in our training and test dataloaders?"
   ]
  },
  {
   "cell_type": "code",
   "execution_count": 5,
   "metadata": {},
   "outputs": [
    {
     "name": "stdout",
     "output_type": "stream",
     "text": [
      "Number of batches in training loader: 844 batches\n",
      "Number of batches in validation loader: 94 batches\n",
      "Number of batches in test loader: 157 batches\n"
     ]
    }
   ],
   "source": [
    "print(f'Number of batches in training loader: {len(train_loader)} batches')\n",
    "print(f'Number of batches in validation loader: {len(val_loader)} batches')\n",
    "print(f'Number of batches in test loader: {len(test_loader)} batches')"
   ]
  },
  {
   "cell_type": "markdown",
   "metadata": {},
   "source": [
    "Let's print one image from the training dataloader and its label:"
   ]
  },
  {
   "cell_type": "code",
   "execution_count": 6,
   "metadata": {
    "scrolled": true
   },
   "outputs": [
    {
     "data": {
      "image/png": "[encoded data removed]",
      "text/plain": [
       "<Figure size 432x288 with 1 Axes>"
      ]
     },
     "metadata": {
      "needs_background": "light"
     },
     "output_type": "display_data"
    }
   ],
   "source": [
    "for i, data in enumerate(train_loader):\n",
    "    if i==0:\n",
    "        image, label = data\n",
    "        image = image[0].squeeze()\n",
    "        unnormalized_image = (image * 0.5) + 0.5\n",
    "\n",
    "        plt.imshow(unnormalized_image, cmap='gray')\n",
    "        plt.title(f'label: {label[0].item()}')\n",
    "        plt.show()\n",
    "    else:\n",
    "        break"
   ]
  },
  {
   "cell_type": "markdown",
   "metadata": {},
   "source": [
    "## SECTION 2: Model design and training"
   ]
  },
  {
   "cell_type": "markdown",
   "metadata": {},
   "source": [
    "We will use PyTorch to build a neural network model for image classification, with the following constraints:\n",
    "- At least 2 hidden layers\n",
    "- Forward method that output a prediction probability for each one of the 10 classes using SOFTMAX"
   ]
  },
  {
   "cell_type": "code",
   "execution_count": 7,
   "metadata": {},
   "outputs": [],
   "source": [
    "# Define the class for your neural network\n",
    "class Net(nn.Module):\n",
    "    def __init__(self):\n",
    "        super().__init__()\n",
    "        self.activation = F.relu\n",
    "        #self.output = F.softmax\n",
    "        self.layer1 = nn.Linear(1*28*28,120) #120,84 Input size should be 1 (1 channel as it's grayscale) x 28 x 28 (28x28 pixels image size)\n",
    "        self.layer2 = nn.Linear(120,84)\n",
    "        self.layer3 = nn.Linear(84,10) # Output should be 10 as it's a 10 classes classification problem.\n",
    "\n",
    "    def forward(self, x):\n",
    "        x = torch.flatten(x, 1) # flatten all dimensions except batch\n",
    "        x = self.activation(self.layer1(x))\n",
    "        x = self.activation(self.layer2(x))\n",
    "        x = self.layer3(x)\n",
    "        return x\n",
    "\n",
    "# Instantiate the model\n",
    "net = Net()"
   ]
  },
  {
   "cell_type": "markdown",
   "metadata": {},
   "source": [
    "We define here the optimizer and the loss function of our network:"
   ]
  },
  {
   "cell_type": "code",
   "execution_count": 8,
   "metadata": {},
   "outputs": [],
   "source": [
    "optimizer = optim.SGD(net.parameters(), lr=0.001, momentum=0.95)\n",
    "\n",
    "criterion = nn.CrossEntropyLoss()"
   ]
  },
  {
   "cell_type": "markdown",
   "metadata": {},
   "source": [
    "Let's define the function to train our neural network model.\n",
    "\n",
    "2 extra features compare to the typical train loop:\n",
    "- Validation dataset: The train dataset has been splitted into 2 set, one for pure training and another for validation. Then the loop provides the validation accuracy for each epoch.\n",
    "\n",
    "- Visual representation of a wrong predicted digit for each epoch."
   ]
  },
  {
   "cell_type": "code",
   "execution_count": 9,
   "metadata": {
    "scrolled": false
   },
   "outputs": [
    {
     "data": {
      "image/png": "[encoded data removed]",
      "text/plain": [
       "<Figure size 432x288 with 1 Axes>"
      ]
     },
     "metadata": {
      "needs_background": "light"
     },
     "output_type": "display_data"
    },
    {
     "name": "stdout",
     "output_type": "stream",
     "text": [
      "Epoch #1 Training accuracy: 77.76%, Training loss: 0.81\n",
      "Epoch #1 Validation accuracy: 90.35%, Validation loss: 0.34\n"
     ]
    },
    {
     "data": {
      "image/png": "[encoded data removed]",
      "text/plain": [
       "<Figure size 432x288 with 1 Axes>"
      ]
     },
     "metadata": {
      "needs_background": "light"
     },
     "output_type": "display_data"
    },
    {
     "name": "stdout",
     "output_type": "stream",
     "text": [
      "Epoch #2 Training accuracy: 90.37%, Training loss: 0.33\n",
      "Epoch #2 Validation accuracy: 91.23%, Validation loss: 0.29\n"
     ]
    },
    {
     "data": {
      "image/png": "[encoded data removed]",
      "text/plain": [
       "<Figure size 432x288 with 1 Axes>"
      ]
     },
     "metadata": {
      "needs_background": "light"
     },
     "output_type": "display_data"
    },
    {
     "name": "stdout",
     "output_type": "stream",
     "text": [
      "Epoch #3 Training accuracy: 91.89%, Training loss: 0.28\n",
      "Epoch #3 Validation accuracy: 93.05%, Validation loss: 0.24\n"
     ]
    },
    {
     "data": {
      "image/png": "[encoded data removed]",
      "text/plain": [
       "<Figure size 432x288 with 1 Axes>"
      ]
     },
     "metadata": {
      "needs_background": "light"
     },
     "output_type": "display_data"
    },
    {
     "name": "stdout",
     "output_type": "stream",
     "text": [
      "Epoch #4 Training accuracy: 93.07%, Training loss: 0.24\n",
      "Epoch #4 Validation accuracy: 94.03%, Validation loss: 0.21\n"
     ]
    },
    {
     "data": {
      "image/png": "[encoded data removed]",
      "text/plain": [
       "<Figure size 432x288 with 1 Axes>"
      ]
     },
     "metadata": {
      "needs_background": "light"
     },
     "output_type": "display_data"
    },
    {
     "name": "stdout",
     "output_type": "stream",
     "text": [
      "Epoch #5 Training accuracy: 94.04%, Training loss: 0.20\n",
      "Epoch #5 Validation accuracy: 94.47%, Validation loss: 0.19\n"
     ]
    },
    {
     "data": {
      "image/png": "[encoded data removed]",
      "text/plain": [
       "<Figure size 432x288 with 1 Axes>"
      ]
     },
     "metadata": {
      "needs_background": "light"
     },
     "output_type": "display_data"
    },
    {
     "name": "stdout",
     "output_type": "stream",
     "text": [
      "Epoch #6 Training accuracy: 94.59%, Training loss: 0.18\n",
      "Epoch #6 Validation accuracy: 95.08%, Validation loss: 0.17\n"
     ]
    },
    {
     "data": {
      "image/png": "[encoded data removed]",
      "text/plain": [
       "<Figure size 432x288 with 1 Axes>"
      ]
     },
     "metadata": {
      "needs_background": "light"
     },
     "output_type": "display_data"
    },
    {
     "name": "stdout",
     "output_type": "stream",
     "text": [
      "Epoch #7 Training accuracy: 95.38%, Training loss: 0.16\n",
      "Epoch #7 Validation accuracy: 94.97%, Validation loss: 0.16\n"
     ]
    },
    {
     "data": {
      "image/png": "[encoded data removed]",
      "text/plain": [
       "<Figure size 432x288 with 1 Axes>"
      ]
     },
     "metadata": {
      "needs_background": "light"
     },
     "output_type": "display_data"
    },
    {
     "name": "stdout",
     "output_type": "stream",
     "text": [
      "Epoch #8 Training accuracy: 95.81%, Training loss: 0.14\n",
      "Epoch #8 Validation accuracy: 95.37%, Validation loss: 0.15\n"
     ]
    },
    {
     "data": {
      "image/png": "[encoded data removed]",
      "text/plain": [
       "<Figure size 432x288 with 1 Axes>"
      ]
     },
     "metadata": {
      "needs_background": "light"
     },
     "output_type": "display_data"
    },
    {
     "name": "stdout",
     "output_type": "stream",
     "text": [
      "Epoch #9 Training accuracy: 96.26%, Training loss: 0.13\n",
      "Epoch #9 Validation accuracy: 96.07%, Validation loss: 0.13\n"
     ]
    },
    {
     "data": {
      "image/png": "[encoded data removed]",
      "text/plain": [
       "<Figure size 432x288 with 1 Axes>"
      ]
     },
     "metadata": {
      "needs_background": "light"
     },
     "output_type": "display_data"
    },
    {
     "name": "stdout",
     "output_type": "stream",
     "text": [
      "Epoch #10 Training accuracy: 96.58%, Training loss: 0.12\n",
      "Epoch #10 Validation accuracy: 96.17%, Validation loss: 0.13\n"
     ]
    },
    {
     "data": {
      "image/png": "[encoded data removed]",
      "text/plain": [
       "<Figure size 432x288 with 1 Axes>"
      ]
     },
     "metadata": {
      "needs_background": "light"
     },
     "output_type": "display_data"
    },
    {
     "name": "stdout",
     "output_type": "stream",
     "text": [
      "Epoch #11 Training accuracy: 96.83%, Training loss: 0.11\n",
      "Epoch #11 Validation accuracy: 96.47%, Validation loss: 0.12\n"
     ]
    },
    {
     "data": {
      "image/png": "[encoded data removed]",
      "text/plain": [
       "<Figure size 432x288 with 1 Axes>"
      ]
     },
     "metadata": {
      "needs_background": "light"
     },
     "output_type": "display_data"
    },
    {
     "name": "stdout",
     "output_type": "stream",
     "text": [
      "Epoch #12 Training accuracy: 97.02%, Training loss: 0.10\n",
      "Epoch #12 Validation accuracy: 96.65%, Validation loss: 0.11\n"
     ]
    },
    {
     "data": {
      "image/png": "[encoded data removed]",
      "text/plain": [
       "<Figure size 432x288 with 1 Axes>"
      ]
     },
     "metadata": {
      "needs_background": "light"
     },
     "output_type": "display_data"
    },
    {
     "name": "stdout",
     "output_type": "stream",
     "text": [
      "Epoch #13 Training accuracy: 97.27%, Training loss: 0.09\n",
      "Epoch #13 Validation accuracy: 96.95%, Validation loss: 0.11\n"
     ]
    },
    {
     "data": {
      "image/png": "[encoded data removed]",
      "text/plain": [
       "<Figure size 432x288 with 1 Axes>"
      ]
     },
     "metadata": {
      "needs_background": "light"
     },
     "output_type": "display_data"
    },
    {
     "name": "stdout",
     "output_type": "stream",
     "text": [
      "Epoch #14 Training accuracy: 97.36%, Training loss: 0.09\n",
      "Epoch #14 Validation accuracy: 96.60%, Validation loss: 0.11\n"
     ]
    },
    {
     "data": {
      "image/png": "[encoded data removed]",
      "text/plain": [
       "<Figure size 432x288 with 1 Axes>"
      ]
     },
     "metadata": {
      "needs_background": "light"
     },
     "output_type": "display_data"
    },
    {
     "name": "stdout",
     "output_type": "stream",
     "text": [
      "Epoch #15 Training accuracy: 97.64%, Training loss: 0.08\n",
      "Epoch #15 Validation accuracy: 97.17%, Validation loss: 0.09\n"
     ]
    }
   ],
   "source": [
    "num_epochs = 15\n",
    "\n",
    "# Establish a list of our history\n",
    "train_loss_history = list()\n",
    "test_loss_history = list()\n",
    "\n",
    "for epoch in range(num_epochs):\n",
    "    net.train()\n",
    "    train_loss = 0.0\n",
    "    train_correct = 0\n",
    "    count = 0\n",
    "    for i, data in enumerate(train_loader):\n",
    "        inputs, labels = data\n",
    "        \n",
    "        # Ensure the input tensors have the correct data type (e.g., torch.float32 or torch.float64)\n",
    "        inputs = inputs.to(torch.float32)\n",
    "        labels = labels.long()\n",
    "        \n",
    "        if torch.cuda.is_available():\n",
    "            inputs, labels = inputs.cuda(), labels.cuda()\n",
    "        \n",
    "        # Zero out the gradients of the optimizer\n",
    "        optimizer.zero_grad()\n",
    "        \n",
    "        # Get the outputs of your model and compute your loss\n",
    "        outputs = net(inputs)\n",
    "        loss = criterion(outputs, labels)\n",
    "        \n",
    "        # Compute the loss gradient using backward method and have the optimizer take a step\n",
    "        loss.backward() \n",
    "        optimizer.step()\n",
    "        \n",
    "        # \n",
    "        _, preds = torch.max(outputs.data, 1) # preds = Tensor(64)\n",
    "        train_correct += (preds == labels).sum().item()\n",
    "        train_loss += loss.item()\n",
    "        \n",
    "        # Print an example of wrong prediction for each epoch\n",
    "        \n",
    "        no_correct_indexes = (preds != labels)\n",
    "        for index in range(len(no_correct_indexes)):\n",
    "            if no_correct_indexes[index] == 1 and count == 0:\n",
    "                image = inputs[index].squeeze()\n",
    "                unnormalized_image = (image * 0.5) + 0.5\n",
    "\n",
    "                plt.imshow(unnormalized_image, cmap='gray')\n",
    "                plt.title(f'prediction: {preds[index].item()}')\n",
    "                plt.show()\n",
    "                count = 1\n",
    "\n",
    "    print(f'Epoch #{epoch+1} Training accuracy: {(100*train_correct/len(train_loader.dataset)):.2f}%, Training loss: {train_loss/len(train_loader):.2f}')\n",
    "    train_loss_history.append(train_loss/len(train_loader))    \n",
    "    \n",
    "    val_loss = 0.0\n",
    "    val_correct = 0\n",
    "    net.eval()\n",
    "    \n",
    "    for i, data in enumerate(val_loader):\n",
    "        inputs, labels = data\n",
    "        inputs = inputs.to(torch.float32)\n",
    "        labels = labels.long()\n",
    "        \n",
    "        outputs = net(inputs)\n",
    "        loss = criterion(outputs, labels)\n",
    "        \n",
    "        _, preds = torch.max(outputs.data, 1)\n",
    "        val_correct += (preds == labels).sum().item()\n",
    "        val_loss += loss.item()\n",
    "\n",
    "    print(f'Epoch #{epoch+1} Validation accuracy: {(100*val_correct/len(val_loader.dataset)):.2f}%, Validation loss: {val_loss/len(val_loader):.2f}')\n",
    "    test_loss_history.append(val_loss/(len(test_loader)))\n",
    "        "
   ]
  },
  {
   "cell_type": "markdown",
   "metadata": {},
   "source": [
    "Let's plot the training and validation loss history."
   ]
  },
  {
   "cell_type": "code",
   "execution_count": 10,
   "metadata": {},
   "outputs": [
    {
     "data": {
      "image/png": "[encoded data removed]",
      "text/plain": [
       "<Figure size 432x288 with 1 Axes>"
      ]
     },
     "metadata": {
      "needs_background": "light"
     },
     "output_type": "display_data"
    }
   ],
   "source": [
    "plt.plot(train_loss_history, label=\"Training Loss\")\n",
    "plt.plot(test_loss_history, label=\"Validation Loss\")\n",
    "plt.legend()\n",
    "plt.show()"
   ]
  },
  {
   "cell_type": "markdown",
   "metadata": {},
   "source": [
    "Validation loss curve don't stop decreasing or increases over the 15 epochs, which means that there is no overfitting."
   ]
  },
  {
   "cell_type": "markdown",
   "metadata": {},
   "source": [
    "## SECTION 3: Model testing and evaluation"
   ]
  },
  {
   "cell_type": "markdown",
   "metadata": {},
   "source": [
    "Let's test our trained model with the testing dataset."
   ]
  },
  {
   "cell_type": "code",
   "execution_count": 11,
   "metadata": {},
   "outputs": [
    {
     "name": "stdout",
     "output_type": "stream",
     "text": [
      "Testing accuracy: 96.90%, Testing loss: 0.106906\n"
     ]
    }
   ],
   "source": [
    "test_correct = 0\n",
    "test_loss = 0.0\n",
    "\n",
    "for i, data in enumerate(test_loader):\n",
    "    inputs, labels = data\n",
    "    \n",
    "    inputs = inputs.to(torch.float32)\n",
    "    labels = labels.long()\n",
    "    \n",
    "    outputs = net(inputs)\n",
    "    loss = criterion(outputs, labels)\n",
    "    _, preds = torch.max(outputs.data, 1)\n",
    "    \n",
    "    test_correct += (preds == labels).sum().item()\n",
    "    test_loss += loss.item()\n",
    "    \n",
    "print(f'Testing accuracy: {100*test_correct/len(test_loader.dataset):.2f}%, Testing loss: {test_loss/len(test_loader):2f}')"
   ]
  },
  {
   "cell_type": "markdown",
   "metadata": {},
   "source": [
    "#### The model obtain a testing accuracy of 96%, which is above the desired threshold (90%)."
   ]
  },
  {
   "cell_type": "markdown",
   "metadata": {},
   "source": [
    "Let's save our model paramters."
   ]
  },
  {
   "cell_type": "code",
   "execution_count": 12,
   "metadata": {},
   "outputs": [],
   "source": [
    "torch.save(net.state_dict(), 'model_parameters.pt')"
   ]
  },
  {
   "cell_type": "code",
   "execution_count": null,
   "metadata": {},
   "outputs": [],
   "source": []
  }
 ],
 "metadata": {
  "kernelspec": {
   "display_name": "Python 3",
   "language": "python",
   "name": "python3"
  },
  "language_info": {
   "codemirror_mode": {
    "name": "ipython",
    "version": 3
   },
   "file_extension": ".py",
   "mimetype": "text/x-python",
   "name": "python",
   "nbconvert_exporter": "python",
   "pygments_lexer": "ipython3",
   "version": "3.8.9"
  }
 },
 "nbformat": 4,
 "nbformat_minor": 4
}
